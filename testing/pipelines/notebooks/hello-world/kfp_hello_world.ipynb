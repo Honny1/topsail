{
 "cells": [
  {
   "cell_type": "code",
   "execution_count": null,
   "id": "3b6f20f3-f5b6-4cd9-ba26-6c371a9fd392",
   "metadata": {},
   "outputs": [],
   "source": [
    "pip install kfp_tekton==1.5.* --quiet"
   ]
  },
  {
   "cell_type": "code",
   "execution_count": null,
   "id": "5e542637-b5ac-4460-99a1-25031eae9a0d",
   "metadata": {},
   "outputs": [],
   "source": [
    "import os\n",
    "#TOKEN_FILE = \"/run/secrets/kubernetes.io/serviceaccount/token\" # not working in RHODS 1.25\n",
    "TOKEN_FILE = \"/mnt/secret_token/token\"\n",
    "with open(TOKEN_FILE) as f:\n",
    "  token = f.read().strip()\n",
    "route = os.environ[\"DSP_ROUTE\"]"
   ]
  },
  {
   "cell_type": "code",
   "execution_count": null,
   "id": "a4540a32-f1e5-44c4-9c61-fa51e1ee2130",
   "metadata": {},
   "outputs": [],
   "source": [
    "import os\n",
    "import kfp_tekton\n",
    "from condition import flipcoin_pipeline"
   ]
  },
  {
   "cell_type": "code",
   "execution_count": null,
   "id": "a694095e-f78d-4022-aab9-14785cfba8e9",
   "metadata": {},
   "outputs": [],
   "source": [
    "cert=\"/run/secrets/kubernetes.io/serviceaccount/ca.crt\"\n",
    "client = kfp_tekton.TektonClient(host=route, existing_token=token, ssl_ca_cert=cert)"
   ]
  },
  {
   "cell_type": "code",
   "execution_count": null,
   "id": "5930c2f2-e9f1-4c82-8e38-baafc5f9e939",
   "metadata": {},
   "outputs": [],
   "source": [
    "from kfp_tekton.compiler import TektonCompiler\n",
    "TektonCompiler().compile(flipcoin_pipeline, \"results/pipeline.yaml\")"
   ]
  },
  {
   "cell_type": "code",
   "execution_count": null,
   "id": "54be79f0-40c0-45f7-99f8-9c0dc29757a1",
   "metadata": {},
   "outputs": [],
   "source": [
    "client.create_run_from_pipeline_func(pipeline_func=flipcoin_pipeline, arguments={})"
   ]
  }
 ],
 "metadata": {
  "kernelspec": {
   "display_name": "Python 3.9.14",
   "language": "python",
   "name": "python3"
  },
  "language_info": {
   "codemirror_mode": {
    "name": "ipython",
    "version": 3
   },
   "file_extension": ".py",
   "mimetype": "text/x-python",
   "name": "python",
   "nbconvert_exporter": "python",
   "pygments_lexer": "ipython3",
   "version": "3.9.14"
  }
 },
 "nbformat": 4,
 "nbformat_minor": 5
}
