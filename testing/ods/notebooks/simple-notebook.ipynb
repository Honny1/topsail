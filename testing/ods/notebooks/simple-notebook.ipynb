{
 "cells": [
  {
   "cell_type": "code",
   "execution_count": 1,
   "id": "cd9ce053-685f-4e88-a522-1d0ea0651640",
   "metadata": {
    "tags": []
   },
   "source": [
    "import pyperf_bm_go\n",
    "import timeit\n",
    "import datetime\n",
    "print(f\"{datetime.datetime.now()} Prepared\")"
   ]
  },
  {
   "cell_type": "code",
   "execution_count": 2,
   "id": "c0e1c627-b1a3-4928-b253-f96a57fee42b",
   "metadata": {},
   "outputs": [],
   "source": [
    "def run_benchmark(repeat, number):\n",
    "    return  pyperf_bm_go.do_measure(repeat, number)"
   ]
  },
  {
   "cell_type": "code",
   "execution_count": null,
   "id": "492f2f4c-3792-4edc-a911-2e071ef4214c",
   "metadata": {},
   "outputs": [],
   "source": []
  }
 ],
 "metadata": {
  "kernelspec": {
   "display_name": "Python 3",
   "language": "python",
   "name": "python3"
  },
  "language_info": {
   "codemirror_mode": {
    "name": "ipython",
    "version": 3
   },
   "file_extension": ".py",
   "mimetype": "text/x-python",
   "name": "python",
   "nbconvert_exporter": "python",
   "pygments_lexer": "ipython3",
   "version": "3.8.12"
  }
 },
 "nbformat": 4,
 "nbformat_minor": 5
}
